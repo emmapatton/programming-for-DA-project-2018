{
 "cells": [
  {
   "cell_type": "markdown",
   "metadata": {},
   "source": [
    "### Speech and Language Therapy - Data set ideas\n",
    "\n",
    "- Length of time waiting to be seen for initial assessment\n",
    "- Number of clients seen per SLT each day/week\n",
    "- Length of time waiting to be seen for therapy \n",
    "- Severity of difficulty\n",
    "- Number of SLT sessions required before discharge from service \n",
    "- Number of SLT sessions required to resolve one speech error / achieve one target\n",
    "- Rate of referrals to Speech and Language Therapy\n",
    "- Categorising the severity of SLT - ? prioritisation for therapy? (use work prioritisation form)\n",
    "\n",
    "- https://data.gov.ie/dataset/umber-of-people-in-ireland-registered-with-the-physical-and-sensory-disability-database-20-2015 26 November 2018\n"
   ]
  },
  {
   "cell_type": "code",
   "execution_count": null,
   "metadata": {},
   "outputs": [],
   "source": []
  },
  {
   "cell_type": "code",
   "execution_count": null,
   "metadata": {},
   "outputs": [],
   "source": []
  },
  {
   "cell_type": "code",
   "execution_count": null,
   "metadata": {},
   "outputs": [],
   "source": []
  },
  {
   "cell_type": "code",
   "execution_count": null,
   "metadata": {},
   "outputs": [],
   "source": []
  },
  {
   "cell_type": "code",
   "execution_count": null,
   "metadata": {},
   "outputs": [],
   "source": []
  },
  {
   "cell_type": "code",
   "execution_count": null,
   "metadata": {},
   "outputs": [],
   "source": []
  },
  {
   "cell_type": "code",
   "execution_count": null,
   "metadata": {},
   "outputs": [],
   "source": []
  },
  {
   "cell_type": "code",
   "execution_count": null,
   "metadata": {},
   "outputs": [],
   "source": []
  },
  {
   "cell_type": "code",
   "execution_count": null,
   "metadata": {},
   "outputs": [],
   "source": []
  },
  {
   "cell_type": "markdown",
   "metadata": {},
   "source": [
    "## References"
   ]
  },
  {
   "cell_type": "markdown",
   "metadata": {},
   "source": [
    "## Bibliography and Acknowledgements "
   ]
  },
  {
   "cell_type": "markdown",
   "metadata": {},
   "source": [
    "- https://machinelearningmastery.com/generate-test-datasets-python-scikit-learn/ 26 November 2018\n",
    "- https://www.datazar.com/file/fa50d8235-d84a-45a8-834c-b3338fac8eb0 26 November 2018\n",
    "- https://www.cooldatasets.com/ 26 November 2018"
   ]
  },
  {
   "cell_type": "code",
   "execution_count": null,
   "metadata": {},
   "outputs": [],
   "source": []
  }
 ],
 "metadata": {
  "kernelspec": {
   "display_name": "Python 3",
   "language": "python",
   "name": "python3"
  },
  "language_info": {
   "codemirror_mode": {
    "name": "ipython",
    "version": 3
   },
   "file_extension": ".py",
   "mimetype": "text/x-python",
   "name": "python",
   "nbconvert_exporter": "python",
   "pygments_lexer": "ipython3",
   "version": "3.6.7"
  }
 },
 "nbformat": 4,
 "nbformat_minor": 2
}
